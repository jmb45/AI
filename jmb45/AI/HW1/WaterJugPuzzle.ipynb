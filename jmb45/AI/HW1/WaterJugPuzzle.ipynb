{
  "nbformat": 4,
  "nbformat_minor": 0,
  "metadata": {
    "colab": {
      "provenance": [],
      "authorship_tag": "ABX9TyN7UZIigNd89Kemcevy64TW",
      "include_colab_link": true
    },
    "kernelspec": {
      "name": "python3",
      "display_name": "Python 3"
    },
    "language_info": {
      "name": "python"
    }
  },
  "cells": [
    {
      "cell_type": "markdown",
      "metadata": {
        "id": "view-in-github",
        "colab_type": "text"
      },
      "source": [
        "<a href=\"https://colab.research.google.com/github/jmb45/AI/blob/main/jmb45/AI/HW1/WaterJugPuzzle.ipynb\" target=\"_parent\"><img src=\"https://colab.research.google.com/assets/colab-badge.svg\" alt=\"Open In Colab\"/></a>"
      ]
    },
    {
      "cell_type": "code",
      "execution_count": 31,
      "metadata": {
        "id": "rMVkZM_QIzH4"
      },
      "outputs": [],
      "source": [
        "class WaterJugs():\n",
        "\n",
        "  #Initialize the states to 0,0\n",
        "  #0 in 5 gallon, 0 in 3 gallon\n",
        "  #Create save state variable\n",
        "  def __init__(self):\n",
        "    self.five = 0\n",
        "    self.three = 0\n",
        "    self.save_state = None\n",
        "\n",
        "\n",
        "\n",
        "\n",
        "  ####Check against illegal states:\n",
        "\n",
        "  #Is the number of the large water over 5 or the small water over 3?\n",
        "  #if so, return true\n",
        "  def isANumberTooHigh(self):\n",
        "    if self.five > 5 or self.three > 3:\n",
        "      return True\n",
        "\n",
        "\n",
        "  #Check if either number is ever less than zero\n",
        "  #If so, return true\n",
        "  def hasNegatives(self):\n",
        "    if self.five < 0 or self.three < 0:\n",
        "      return True\n",
        "\n",
        "#If the numbers aren't too high or low, state is legal\n",
        "  def state_is_legal(self):\n",
        "    return not (self.isANumberTooHigh() or self.hasNegatives())\n",
        "\n",
        "\n",
        "\n",
        "  #Function that add exactly the full amount to each jug\n",
        "\n",
        "  def fillFive(self):\n",
        "    self.five = 5\n",
        "\n",
        "  def fillThree(self):\n",
        "    self.three = 3\n",
        "\n",
        "  #Function that empties each jug\n",
        "  def emptyFive(self):\n",
        "    self.five = 0\n",
        "\n",
        "  def emptyThree(self):\n",
        "    self.three = 0\n",
        "########################################################################\n",
        "  #First Transfer method\n",
        "  #If the three liter can tolerate all of the water in the five, set the\n",
        "  #five to zero and transfer all of it\n",
        "\n",
        "  #If it can't, max out the three and subtract what was taken from 5\n",
        "\n",
        "  #Check for illegal states\n",
        "########################################################################\n",
        "  def transferFiveToThree(self):\n",
        "    other = self.five\n",
        "    if self.three + other <= 3:\n",
        "      self.three = self.three + other\n",
        "      self.five = 0\n",
        "      if not self.state_is_legal(): self.undo_state()\n",
        "\n",
        "    else:\n",
        "\n",
        "      self.five = self.five - (3-self.three)\n",
        "      self.three = 3\n",
        "\n",
        "      if not self.state_is_legal(): self.undo_state()\n",
        "\n",
        "\n",
        "########################################################################\n",
        "  #Second Transfer method\n",
        "  #If the five liter can tolerate all of the water in the three, set the\n",
        "  #three to zero and transfer all of it\n",
        "\n",
        "  #If it can't, max out the five and subtract what was taken from three\n",
        "\n",
        "  #Check for illegal states\n",
        "########################################################################\n",
        "  def transferThreeToFive(self):\n",
        "    other = self.three\n",
        "    if self.five + other < 5:\n",
        "      self.five = self.five + other\n",
        "      self.three = 0\n",
        "      if not self.state_is_legal(): self.undo_state()\n",
        "    else:\n",
        "      self.three = self.three - (5-self.five)\n",
        "      self.five = 5\n",
        "      if not self.state_is_legal(): self.undo_state()\n",
        "\n",
        "\n",
        "\n",
        "\n",
        "\n",
        "  #Function saving the current state so we can revert back if need be\n",
        "  def save_state(self):\n",
        "    self.save_state = (self.five, self.three)\n",
        "\n",
        "#Function to undo states based on saved state instance variable\n",
        "  def undo_state(self):\n",
        "    if self._saved_state is not None:\n",
        "      self.five, self.three = self._saved_state\n",
        "\n",
        "  #Print State\n",
        "\n",
        "  def print_state(self):\n",
        "    print(f\"Five-gallon jug: {self.five}, Three-gallon jug: {self.three}\")"
      ]
    },
    {
      "cell_type": "code",
      "source": [
        "mcf = WaterJugs()\n",
        "mcf.fillFive()\n",
        "mcf.print_state()\n",
        "\n",
        "mcf.transferFiveToThree()\n",
        "mcf.print_state()\n",
        "\n",
        "mcf.emptyThree()\n",
        "mcf.print_state()\n",
        "\n",
        "mcf.transferFiveToThree()\n",
        "mcf.print_state()\n",
        "\n",
        "mcf.fillFive()\n",
        "mcf.print_state()\n",
        "\n",
        "mcf.transferFiveToThree()\n",
        "mcf.print_state()\n",
        "\n",
        "\n"
      ],
      "metadata": {
        "colab": {
          "base_uri": "https://localhost:8080/"
        },
        "id": "xUHDUNnnpAii",
        "outputId": "b7c5c3a3-2008-4e62-f543-665886439d6a"
      },
      "execution_count": 34,
      "outputs": [
        {
          "output_type": "stream",
          "name": "stdout",
          "text": [
            "Five-gallon jug: 5, Three-gallon jug: 0\n",
            "Five-gallon jug: 2, Three-gallon jug: 3\n",
            "Five-gallon jug: 2, Three-gallon jug: 0\n",
            "Five-gallon jug: 0, Three-gallon jug: 2\n",
            "Five-gallon jug: 5, Three-gallon jug: 2\n",
            "Five-gallon jug: 4, Three-gallon jug: 3\n"
          ]
        }
      ]
    }
  ]
}