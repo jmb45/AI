{
  "nbformat": 4,
  "nbformat_minor": 0,
  "metadata": {
    "colab": {
      "provenance": [],
      "authorship_tag": "ABX9TyMsBZP2RR/59q5qC51pLOso",
      "include_colab_link": true
    },
    "kernelspec": {
      "name": "python3",
      "display_name": "Python 3"
    },
    "language_info": {
      "name": "python"
    }
  },
  "cells": [
    {
      "cell_type": "markdown",
      "metadata": {
        "id": "view-in-github",
        "colab_type": "text"
      },
      "source": [
        "<a href=\"https://colab.research.google.com/github/jmb45/AI/blob/main/HW1/Problem1.ipynb\" target=\"_parent\"><img src=\"https://colab.research.google.com/assets/colab-badge.svg\" alt=\"Open In Colab\"/></a>"
      ]
    },
    {
      "cell_type": "markdown",
      "source": [
        "Author: Joseph Pepe\n",
        "Purpose: The purpose of this assignment is to mimic finding a certain level of friend on a certain social media platform. Given an adjacency matrix input, the program should be able to return the kth level of mutual friends with respect to the starting node."
      ],
      "metadata": {
        "id": "nwiDzMFj71DV"
      }
    },
    {
      "cell_type": "code",
      "execution_count": 2,
      "metadata": {
        "id": "5huDc1SjCt9Q"
      },
      "outputs": [],
      "source": [
        "from collections import deque\n",
        "\n",
        "# Start the graph search from root using a doubly-ended queue\n",
        "\n",
        "def BFS(graph, root, k):\n",
        "\n",
        "\n",
        "    # deque is list-like container with fast appends and pops on either end\n",
        "    visited, queue = set(), deque([root])\n",
        "    visited.add(root)\n",
        "\n",
        "    depth = {}\n",
        "    depth[root] = 0\n",
        "\n",
        "    # Keep exploring as long as the queue is not empty\n",
        "    while queue:\n",
        "\n",
        "        vertex = queue.popleft()\n",
        "        currentDepth = depth[vertex]\n",
        "\n",
        "        #Only print the element if we are at the desired depth\n",
        "        if currentDepth == k:\n",
        "          print(vertex, end=\" \")\n",
        "\n",
        "        # If not visited, mark it as visited, and enqueue it\n",
        "        #Enter into the loop only if we are not at current depth\n",
        "        if currentDepth < k:\n",
        "          for neighbor in graph[vertex]:\n",
        "              if neighbor not in visited:\n",
        "                  visited.add(neighbor)\n",
        "                  depth[neighbor] = currentDepth + 1\n",
        "                  queue.append(neighbor)"
      ]
    },
    {
      "cell_type": "code",
      "source": [
        "graph1 = {\n",
        "  \"Bob\" : [\"Rob\", \"Richard\",\"Pam\"],\n",
        "  \"Richard\" : [],\n",
        "  \"Rob\" : [],\n",
        "  \"Pam\" : [\"Roger\", \"Peter\"],\n",
        "  \"Peter\" : [\"Amy\"],\n",
        "  \"Roger\" : [\"Anna\"],\n",
        "  \"Amy\" : [],\n",
        "  \"Anna\" : []\n",
        "\n",
        "}\n",
        "\n",
        "\n",
        "BFS(graph1, \"Bob\", 2)"
      ],
      "metadata": {
        "colab": {
          "base_uri": "https://localhost:8080/"
        },
        "id": "Wbphu21ADYQL",
        "outputId": "d9617b3c-bb13-4e78-b4ac-bd2c73525660"
      },
      "execution_count": 4,
      "outputs": [
        {
          "output_type": "stream",
          "name": "stdout",
          "text": [
            "Roger Peter "
          ]
        }
      ]
    }
  ]
}