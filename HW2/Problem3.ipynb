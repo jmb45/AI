{
  "nbformat": 4,
  "nbformat_minor": 0,
  "metadata": {
    "colab": {
      "provenance": [],
      "authorship_tag": "ABX9TyOKK7BfEhzR57W4pPcGJDB6",
      "include_colab_link": true
    },
    "kernelspec": {
      "name": "python3",
      "display_name": "Python 3"
    },
    "language_info": {
      "name": "python"
    }
  },
  "cells": [
    {
      "cell_type": "markdown",
      "metadata": {
        "id": "view-in-github",
        "colab_type": "text"
      },
      "source": [
        "<a href=\"https://colab.research.google.com/github/jmb45/AI/blob/main/HW2/Problem3.ipynb\" target=\"_parent\"><img src=\"https://colab.research.google.com/assets/colab-badge.svg\" alt=\"Open In Colab\"/></a>"
      ]
    },
    {
      "cell_type": "markdown",
      "source": [
        "Author: Joseph Pepe\n",
        "Purpose: The purpose of this program is to determine whether a certain position can be reached relative to a start node or not. Given an adjacency matrix that is meant to represent a maze, the program will return a string \"SUCCESS\" if the node can be reached and \"FAILURE\" if not."
      ],
      "metadata": {
        "id": "A8lnwSHg-N2j"
      }
    },
    {
      "cell_type": "code",
      "execution_count": 11,
      "metadata": {
        "id": "oSTHLtN2h9aw"
      },
      "outputs": [],
      "source": [
        "from collections import deque\n",
        "\n",
        "# Start the graph search from root using a doubly-ended queue\n",
        "# both these combinations work for DFS: append/pop and appendleft/popleft\n",
        "\n",
        "def DFS(graph, root, goal):\n",
        "\n",
        "    # deque is list-like container with fast appends and pops on either end\n",
        "    visited, queue = set(), deque([root])\n",
        "    visited.add(root)\n",
        "\n",
        "    # Keep exploring as long as the queue is not empty\n",
        "    while queue:\n",
        "\n",
        "        # Dequeue a vertex from queue\n",
        "        vertex = queue.pop()\n",
        "\n",
        "\n",
        "        #If we ever find the desired vertex, we can print the desired output\n",
        "        #and break out of the loop\n",
        "        if vertex == goal:\n",
        "          print(\"SUCCESS\")\n",
        "          return;\n",
        "\n",
        "        # If not visited, mark the node as visited and enqueue it\n",
        "        # Use reversed() to enforce left-to-right ordering\n",
        "        #Continue visiting children until desired output is found\n",
        "        for neighbor in reversed(graph[vertex]):\n",
        "            if neighbor not in visited:\n",
        "                visited.add(neighbor)\n",
        "                queue.append(neighbor)\n",
        "\n",
        "    #Return false if desired vertex is not found\n",
        "    #Since we have an if statement inside of the loop that is checked\n",
        "    #every iteration, this will only run after all elements are searched.\n",
        "    print(\"FAILURE\")\n",
        ""
      ]
    },
    {
      "cell_type": "code",
      "source": [
        "graph1 = {\n",
        "  \"1\" : [\"2\", \"11\"],\n",
        "  \"2\" : [\"1\", \"3\"],\n",
        "  \"3\" : [\"2\", \"13\"],\n",
        "  \"4\" : [\"5\", \"14\"],\n",
        "  \"5\" : [\"4\", \"6\"],\n",
        "  \"6\" : [\"5\", \"16\"],\n",
        "  \"7\" : [\"8\", \"17\"],\n",
        "  \"8\" : [\"7\", \"9\"],\n",
        "  \"9\" : [\"8\", \"10\"],\n",
        "  \"10\" : [\"9\", \"20\"],\n",
        "  \"11\" : [\"2\", \"21\"],\n",
        "  \"12\" : [\"13\"],\n",
        "  \"13\" : [\"3\", \"12\"],\n",
        "  \"14\" : [\"4\", \"15\"],\n",
        "  \"15\" : [\"14\", \"25\"],\n",
        "  \"16\" : [\"6\", \"17\"],\n",
        "  \"17\" : [\"7\", \"16\", \"27\"],\n",
        "  \"18\" : [\"28\"],\n",
        "  \"19\" : [\"20\", \"29\"],\n",
        "  \"20\" : [\"19\", \"10\"],\n",
        "  \"21\" : [\"11\", \"22\"],\n",
        "  \"22\" : [\"21\", \"23\"],\n",
        "  \"23\" : [\"24\", \"33\"],\n",
        "  \"24\" : [\"23\"],\n",
        "  \"25\" : [\"15\", \"26\", \"35\"],\n",
        "  \"26\" : [\"25\", \"36\"],\n",
        "  \"27\" : [\"17\", \"28\"],\n",
        "  \"28\" : [\"18\", \"27\"],\n",
        "  \"29\" : [\"19\", \"39\"],\n",
        "  \"30\" : [\"40\"],\n",
        "  \"31\" : [\"32\", \"41\"],\n",
        "  \"32\" : [\"31\", \"33\"],\n",
        "  \"33\" : [\"23\", \"32\"],\n",
        "  \"34\" : [\"35\", \"44\"],\n",
        "  \"35\" : [\"34\", \"25\", \"45\"],\n",
        "  \"36\" : [\"26\", \"37\"],\n",
        "  \"37\" : [\"36\"],\n",
        "  \"38\" : [\"39\", \"48\"],\n",
        "  \"39\" : [\"29\", \"38\", \"40\"],\n",
        "  \"40\" : [\"30\", \"39\"],\n",
        "  \"41\" : [\"31\", \"42\"],\n",
        "  \"42\" : [\"41\", \"43\"],\n",
        "  \"43\" : [\"42\", \"44\"],\n",
        "  \"44\" : [\"34\", \"43\"],\n",
        "  \"45\" : [\"35\", \"46\"],\n",
        "  \"46\" : [\"45\"],\n",
        "  \"47\" : [\"48\"],\n",
        "  \"48\" : [\"38\", \"47\", \"49\"],\n",
        "  \"49\" : [\"48\", \"50\"],\n",
        "  \"50\" : [\"49\"],\n",
        "\n",
        "\n",
        "}\n",
        "\n",
        "\n",
        "DFS(graph1, \"1\", \"50\")"
      ],
      "metadata": {
        "colab": {
          "base_uri": "https://localhost:8080/"
        },
        "id": "3c-kweYuU-dC",
        "outputId": "4f83d782-8382-4a23-e1dc-29adf27b1429"
      },
      "execution_count": 14,
      "outputs": [
        {
          "output_type": "stream",
          "name": "stdout",
          "text": [
            "SUCCESS\n"
          ]
        }
      ]
    }
  ]
}