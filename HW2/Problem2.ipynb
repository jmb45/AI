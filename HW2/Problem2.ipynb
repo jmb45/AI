{
  "nbformat": 4,
  "nbformat_minor": 0,
  "metadata": {
    "colab": {
      "provenance": [],
      "authorship_tag": "ABX9TyM2lDrGiSd0KfW/G68iRaxE",
      "include_colab_link": true
    },
    "kernelspec": {
      "name": "python3",
      "display_name": "Python 3"
    },
    "language_info": {
      "name": "python"
    }
  },
  "cells": [
    {
      "cell_type": "markdown",
      "metadata": {
        "id": "view-in-github",
        "colab_type": "text"
      },
      "source": [
        "<a href=\"https://colab.research.google.com/github/jmb45/AI/blob/main/HW2/Problem2.ipynb\" target=\"_parent\"><img src=\"https://colab.research.google.com/assets/colab-badge.svg\" alt=\"Open In Colab\"/></a>"
      ]
    },
    {
      "cell_type": "markdown",
      "source": [
        "Author: Joseph Pepe\n",
        "Purpose: This program is meant to find mutual friends on a social netorking app. Given an adjacency matrix of people who are connected to each other, it is meant to find mutal friends with an immediate connection."
      ],
      "metadata": {
        "id": "eENBuyuG8Wi7"
      }
    },
    {
      "cell_type": "code",
      "execution_count": 1,
      "metadata": {
        "id": "puY8pe7XU5yE"
      },
      "outputs": [],
      "source": [
        "from collections import deque\n",
        "\n",
        "# Start the graph search from root using a doubly-ended queue\n",
        "\n",
        "def BFS(graph, root):\n",
        "\n",
        "\n",
        "    # deque is list-like container with fast appends and pops on either end\n",
        "    visited, queue = set(), deque([root])\n",
        "    visited.add(root)\n",
        "\n",
        "    depth = {}\n",
        "    depth[root] = 0\n",
        "\n",
        "    # Keep exploring as long as the queue is not empty\n",
        "    while queue:\n",
        "\n",
        "        vertex = queue.popleft()\n",
        "        currentDepth = depth[vertex]\n",
        "\n",
        "        #Current Depth should be a max of 2 since it is only potentially\n",
        "        #immediate connections. Therefore, we only print if the current depth\n",
        "        #is 2\n",
        "        if currentDepth == 2:\n",
        "          print(vertex, end=\" \")\n",
        "\n",
        "        # If not visited, mark it as visited, and enqueue it\n",
        "        for neighbor in graph[vertex]:\n",
        "            if neighbor not in visited:\n",
        "                visited.add(neighbor)\n",
        "                depth[neighbor] = currentDepth + 1\n",
        "                queue.append(neighbor)"
      ]
    },
    {
      "cell_type": "code",
      "source": [
        "graph1 = {\n",
        "  \"Sophia\" : [\"Maya\", \"Maria\"],\n",
        "  \"Maya\" : [\"Sophia\", \"Maria\", \"David\"],\n",
        "  \"Maria\" : [\"Adam\", \"Maya\", \"David\", \"Sophia\"],\n",
        "  \"Adam\" : [\"Maria\"],\n",
        "  \"David\" : [\"Maya\", \"Maria\"],\n",
        "\n",
        "\n",
        "}\n",
        "\n",
        "\n",
        "BFS(graph1, \"Sophia\")"
      ],
      "metadata": {
        "colab": {
          "base_uri": "https://localhost:8080/"
        },
        "id": "3c-kweYuU-dC",
        "outputId": "29144f50-a2fc-4eb8-b5ac-a9a455a6189b"
      },
      "execution_count": 5,
      "outputs": [
        {
          "output_type": "stream",
          "name": "stdout",
          "text": [
            "David Adam "
          ]
        }
      ]
    }
  ]
}